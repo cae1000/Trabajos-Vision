{
 "cells": [
  {
   "cell_type": "code",
   "execution_count": 2,
   "metadata": {},
   "outputs": [],
   "source": [
    "import cv2\n",
    "import matplotlib.pyplot as plt\n",
    "import numpy as np"
   ]
  },
  {
   "cell_type": "code",
   "execution_count": null,
   "metadata": {},
   "outputs": [],
   "source": [
    "#leer imagenes\n",
    "botellafondo = cv2.imread('/home/Lab vision/botellafondo.jpeg')\n",
    "robots = cv2.imread('/home/Lab vision/robots.jpg')\n",
    "botellamarcada_parcial = cv2.imread('/home/Lab vision/botellamarcada-parcial.png')"
   ]
  },
  {
   "cell_type": "code",
   "execution_count": null,
   "metadata": {},
   "outputs": [],
   "source": [
    "#Botella fondo\n",
    "plt.subplot(3,2,1)\n",
    "plt.title(\"Original\")\n",
    "plt.imshow(botellafondo[:,:,::-1])\n",
    "plt.axis('off')\n",
    "\n",
    "#Histograma original\n",
    "plt.subplot(3,2,2)\n",
    "plt.title(\"Histograma RGB\")\n",
    "\n",
    "colors = ('b', 'g','r')\n",
    "\n",
    "for i, c in enumerate(colors):\n",
    "    histRGB = cv2.calcHist([botellafondo], [i], None, [256], [0, 256])\n",
    "    plt.plot(histRGB, color = c)\n",
    "    plt.title('Histograma RGB')\n",
    "    plt.xlim([0,256])"
   ]
  },
  {
   "cell_type": "code",
   "execution_count": null,
   "metadata": {},
   "outputs": [],
   "source": [
    "#robots\n",
    "plt.subplot(3,2,1)\n",
    "plt.title(\"Original\")\n",
    "plt.imshow(robots[:,:,::-1])\n",
    "plt.axis('off')\n",
    "\n",
    "#Histograma\n",
    "plt.subplot(3,2,2)\n",
    "plt.title(\"Histograma RGB\")\n",
    "\n",
    "colors = ('b', 'g','r')\n",
    "\n",
    "for i, c in enumerate(colors):\n",
    "    histRGB = cv2.calcHist([robots], [i], None, [256], [0, 256])\n",
    "    plt.plot(histRGB, color = c)\n",
    "    plt.title('Histograma RGB')\n",
    "    plt.xlim([0,256])"
   ]
  },
  {
   "cell_type": "code",
   "execution_count": null,
   "metadata": {},
   "outputs": [],
   "source": [
    "#botellamarcada_parcial\n",
    "plt.subplot(3,2,1)\n",
    "plt.title(\"Original\")\n",
    "plt.imshow(botellamarcada_parcial[:,:,::-1])\n",
    "plt.axis('off')\n",
    "\n",
    "#Histograma\n",
    "plt.subplot(3,2,2)\n",
    "plt.title(\"Histograma RGB\")\n",
    "\n",
    "colors = ('b', 'g','r')\n",
    "\n",
    "for i, c in enumerate(colors):\n",
    "    histRGB = cv2.calcHist([botellamarcada_parcial], [i], None, [256], [0, 256])\n",
    "    plt.plot(histRGB, color = c)\n",
    "    plt.title('Histograma RGB')\n",
    "    plt.xlim([0,256])"
   ]
  }
 ],
 "metadata": {
  "kernelspec": {
   "display_name": "Python 3",
   "language": "python",
   "name": "python3"
  },
  "language_info": {
   "codemirror_mode": {
    "name": "ipython",
    "version": 3
   },
   "file_extension": ".py",
   "mimetype": "text/x-python",
   "name": "python",
   "nbconvert_exporter": "python",
   "pygments_lexer": "ipython3",
   "version": "3.13.2"
  }
 },
 "nbformat": 4,
 "nbformat_minor": 2
}
